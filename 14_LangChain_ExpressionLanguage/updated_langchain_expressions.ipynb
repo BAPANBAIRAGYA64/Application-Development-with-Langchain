{
 "cells": [
  {
   "cell_type": "code",
   "execution_count": 1,
   "metadata": {},
   "outputs": [
    {
     "data": {
      "text/plain": [
       "True"
      ]
     },
     "execution_count": 1,
     "metadata": {},
     "output_type": "execute_result"
    }
   ],
   "source": [
    "from dotenv import load_dotenv\n",
    "load_dotenv()"
   ]
  },
  {
   "cell_type": "code",
   "execution_count": 2,
   "metadata": {},
   "outputs": [],
   "source": [
    "from langchain.prompts import ChatPromptTemplate\n",
    "from langchain.chat_models import ChatOpenAI\n",
    "from langchain.chains import LLMChain"
   ]
  },
  {
   "cell_type": "code",
   "execution_count": 3,
   "metadata": {},
   "outputs": [],
   "source": [
    "llm = ChatOpenAI()"
   ]
  },
  {
   "cell_type": "code",
   "execution_count": 4,
   "metadata": {},
   "outputs": [],
   "source": [
    "prompt = ChatPromptTemplate.from_template(\"tell me about the nutritional value of {input}\")"
   ]
  },
  {
   "cell_type": "code",
   "execution_count": 5,
   "metadata": {},
   "outputs": [
    {
     "data": {
      "text/plain": [
       "\"Pizza is a popular and widely consumed food that consists of a round, flat base of dough topped with various ingredients such as tomato sauce, cheese, vegetables, meat, and spices. The nutritional value of pizza can vary depending on the type of crust, toppings, and portion size. \\n\\nHere is a breakdown of the nutritional components commonly found in a typical slice of pizza (approximately 14-inch, cheese pizza):\\n\\n1. Calories: A slice of cheese pizza typically contains around 250-300 calories, but this can vary based on the size of the slice and the amount of cheese used.\\n\\n2. Carbohydrates: Pizza is rich in carbohydrates due to its dough crust. A slice of pizza can provide around 30-40 grams of carbohydrates, primarily from refined flour used in the crust.\\n\\n3. Protein: Cheese pizza contains a moderate amount of protein, with one slice providing about 12-15 grams. This protein comes from the cheese and, if present, any meat or vegetable toppings.\\n\\n4. Fat: The fat content in pizza mostly comes from the cheese and any added oils or meats. A slice of cheese pizza typically contains around 10-15 grams of fat, with variations depending on the cheese used.\\n\\n5. Fiber: The fiber content in pizza is generally low, primarily because the crust is made from refined flour. However, if the pizza includes vegetable toppings like mushrooms, onions, or bell peppers, it can contribute to the fiber content.\\n\\n6. Micronutrients: Pizza can provide some essential nutrients depending on the toppings used. For example, tomatoes used in the sauce contain vitamins A and C, while vegetables like spinach or broccoli can add additional vitamins and minerals.\\n\\nIt's important to note that the nutritional value of pizza can significantly change depending on the type and amount of toppings added. Pizzas with excessive amounts of cheese, processed meats, or oily toppings may be high in saturated fats, sodium, and calories. Additionally, portion size plays a crucial role in determining the overall nutritional value. Moderation and balance are key when consuming pizza or any food to maintain a healthy and balanced diet.\""
      ]
     },
     "execution_count": 5,
     "metadata": {},
     "output_type": "execute_result"
    }
   ],
   "source": [
    "chain = LLMChain(llm=llm, prompt=prompt)\n",
    "chain.predict(input=\"Pizza\")"
   ]
  },
  {
   "cell_type": "code",
   "execution_count": 6,
   "metadata": {},
   "outputs": [
    {
     "data": {
      "text/plain": [
       "AIMessage(content=\"Spaghetti is a type of pasta made from wheat flour and water. The nutritional value of spaghetti can vary depending on the specific brand or recipe used, as well as the serving size. Here are some general nutritional facts about spaghetti:\\n\\n1. Calories: A one-cup serving of cooked spaghetti contains around 200-220 calories. This value can increase if you add sauces, cheese, or other toppings.\\n\\n2. Carbohydrates: Spaghetti is primarily composed of carbohydrates. One cup of cooked spaghetti provides approximately 40-45 grams of carbohydrates, which are an essential source of energy for the body.\\n\\n3. Protein: Spaghetti is not particularly high in protein. A one-cup serving typically contains around 7-8 grams of protein. To increase protein intake, you can pair spaghetti with protein-rich sources like lean meats, tofu, or legumes.\\n\\n4. Fiber: Whole wheat spaghetti contains more fiber than refined white spaghetti. On average, one cup of cooked whole wheat spaghetti has around 6-8 grams of dietary fiber, while refined white spaghetti contains about 2 grams. Fiber aids digestion, helps maintain bowel regularity, and promotes feelings of fullness.\\n\\n5. Fat: Spaghetti is a relatively low-fat food. A one-cup serving of cooked spaghetti usually contains less than 2 grams of fat. However, the addition of sauces or oils can significantly increase the fat content.\\n\\n6. Vitamins and minerals: Spaghetti is not a significant source of essential vitamins and minerals. However, it does contain small amounts of iron, magnesium, and B-vitamins.\\n\\nIt's important to note that these values may vary depending on the specific type of spaghetti, cooking method, and the ingredients used in sauces or toppings. Additionally, portion size plays a crucial role in determining the overall nutritional value of spaghetti.\", additional_kwargs={}, example=False)"
      ]
     },
     "execution_count": 6,
     "metadata": {},
     "output_type": "execute_result"
    }
   ],
   "source": [
    "chain = prompt | llm\n",
    "chain.invoke({\"input\": \"Spaghetti\"})"
   ]
  },
  {
   "cell_type": "markdown",
   "metadata": {},
   "source": [
    "### First pipe"
   ]
  },
  {
   "cell_type": "code",
   "execution_count": 9,
   "metadata": {},
   "outputs": [],
   "source": [
    "from langchain.schema.output_parser import StrOutputParser\n",
    "\n",
    "chain = prompt | llm | StrOutputParser()"
   ]
  },
  {
   "cell_type": "code",
   "execution_count": 10,
   "metadata": {},
   "outputs": [
    {
     "data": {
      "text/plain": [
       "\"Lasagna is a traditional Italian dish made with layers of pasta, meat sauce, cheese, and sometimes vegetables. The nutritional value of lasagna can vary depending on the specific recipe and ingredients used, but here is a general overview:\\n\\n1. Carbohydrates: Lasagna is typically high in carbohydrates due to the pasta layers. Carbohydrates provide energy for the body.\\n\\n2. Proteins: The meat sauce in lasagna, usually made with ground beef or sausage, contributes to the protein content. Protein is essential for building and repairing tissues in the body.\\n\\n3. Fats: The cheese used in lasagna adds to the fat content. While some fats are necessary for the body, excessive consumption can contribute to weight gain and other health issues.\\n\\n4. Fiber: If vegetables like spinach, mushrooms, or zucchini are included in lasagna, it can provide additional fiber. Fiber aids in digestion, helps maintain bowel regularity, and can contribute to satiety.\\n\\n5. Vitamins and Minerals: Lasagna can contain various vitamins and minerals depending on the ingredients used. For example, tomatoes in the sauce provide vitamin C, while spinach offers vitamins A and K.\\n\\nIt's important to note that the nutritional value of lasagna can be influenced by portion size and the specific ingredients used. Pre-made or restaurant versions may also have higher levels of sodium, saturated fats, or preservatives. If you're concerned about the nutritional content, consider making homemade lasagna using lean meats, whole wheat pasta, and incorporating more vegetables.\""
      ]
     },
     "execution_count": 10,
     "metadata": {},
     "output_type": "execute_result"
    }
   ],
   "source": [
    "chain = prompt | llm | StrOutputParser()\n",
    "chain.invoke({\"input\": \"Lasagna\"})"
   ]
  },
  {
   "cell_type": "code",
   "execution_count": null,
   "metadata": {},
   "outputs": [],
   "source": [
    "chain.invoke({\"input\": \"A Pizza\"})"
   ]
  },
  {
   "cell_type": "code",
   "execution_count": null,
   "metadata": {},
   "outputs": [],
   "source": [
    "chain = prompt | llm | StrOutputParser()\n",
    "chain.invoke({\"input\": \"A Pizza\"})"
   ]
  },
  {
   "cell_type": "code",
   "execution_count": null,
   "metadata": {},
   "outputs": [],
   "source": [
    "prompt = ChatPromptTemplate.from_template(\n",
    "    \"tell me 5 jokes about {input}\"\n",
    "    )"
   ]
  },
  {
   "cell_type": "code",
   "execution_count": null,
   "metadata": {},
   "outputs": [],
   "source": [
    "chain = prompt | llm.bind(stop=[\"\\n\"]) | StrOutputParser()"
   ]
  },
  {
   "cell_type": "code",
   "execution_count": null,
   "metadata": {},
   "outputs": [],
   "source": [
    "chain.invoke({\"input\": \"pizzas\"})"
   ]
  },
  {
   "cell_type": "markdown",
   "metadata": {},
   "source": [
    "### OPENAI Functions"
   ]
  },
  {
   "cell_type": "code",
   "execution_count": null,
   "metadata": {},
   "outputs": [],
   "source": [
    "functions = [\n",
    "    {\n",
    "      \"name\": \"joke\",\n",
    "      \"description\": \"A joke\",\n",
    "      \"parameters\": {\n",
    "        \"type\": \"object\",\n",
    "        \"properties\": {\n",
    "          \"setup\": {\n",
    "            \"type\": \"string\",\n",
    "            \"description\": \"The setup for the joke\"\n",
    "          },\n",
    "          \"punchline\": {\n",
    "            \"type\": \"string\",\n",
    "            \"description\": \"The punchline for the joke\"\n",
    "          }\n",
    "        },\n",
    "        \"required\": [\"setup\", \"punchline\"]\n",
    "      }\n",
    "    }\n",
    "  ]"
   ]
  },
  {
   "cell_type": "code",
   "execution_count": null,
   "metadata": {},
   "outputs": [],
   "source": [
    "from langchain.output_parsers.openai_functions import JsonOutputFunctionsParser\n",
    "chain = (\n",
    "    prompt \n",
    "    | llm.bind(function_call={\"name\": \"joke\"}, functions= functions) \n",
    "    | JsonOutputFunctionsParser()\n",
    ")"
   ]
  },
  {
   "cell_type": "code",
   "execution_count": null,
   "metadata": {},
   "outputs": [],
   "source": [
    "chain.invoke(input={\"input\": \"bears\"})\n"
   ]
  },
  {
   "cell_type": "markdown",
   "metadata": {},
   "source": [
    "### Working with vectorstores"
   ]
  },
  {
   "cell_type": "code",
   "execution_count": null,
   "metadata": {},
   "outputs": [],
   "source": [
    "from langchain.vectorstores import Chroma\n",
    "from langchain.embeddings import OpenAIEmbeddings\n",
    "from langchain.schema.runnable import RunnablePassthrough\n",
    "\n",
    "\n",
    "vectorstore = Chroma.from_texts([\"Cats are typically 9.1 kg in weight.\", \n",
    "                                 \"Cats have retractable claws.\", \n",
    "                                 \"A group of cats is called a clowder.\", \n",
    "                                 \"Cats can rotate their ears 180 degrees.\", \n",
    "                                 \"The world's oldest cat lived to be 38 years old.\"], \n",
    "                                embedding=OpenAIEmbeddings())\n",
    "retriever = vectorstore.as_retriever()\n"
   ]
  },
  {
   "cell_type": "code",
   "execution_count": null,
   "metadata": {},
   "outputs": [],
   "source": [
    "template = \"\"\"Answer the question based only on the following context:\n",
    "{context}\n",
    "\n",
    "Question: {question}\n",
    "\"\"\"\n",
    "prompt = ChatPromptTemplate.from_template(template)"
   ]
  },
  {
   "cell_type": "code",
   "execution_count": null,
   "metadata": {},
   "outputs": [],
   "source": [
    "chain = (\n",
    "    {\"context\": retriever, \"question\": RunnablePassthrough()} \n",
    "    | prompt \n",
    "    | llm \n",
    "    | StrOutputParser()\n",
    ")"
   ]
  },
  {
   "cell_type": "code",
   "execution_count": null,
   "metadata": {},
   "outputs": [],
   "source": [
    "chain.invoke(\"how old is the oldest cat?\")"
   ]
  },
  {
   "cell_type": "code",
   "execution_count": null,
   "metadata": {},
   "outputs": [],
   "source": [
    "from operator import itemgetter"
   ]
  },
  {
   "cell_type": "code",
   "execution_count": null,
   "metadata": {},
   "outputs": [],
   "source": [
    "question = {\"bla\": \"test\", \"x\": \"wuff\"}\n",
    "itemgetter(\"bla\")\n"
   ]
  },
  {
   "cell_type": "code",
   "execution_count": null,
   "metadata": {},
   "outputs": [],
   "source": [
    "get_bla = itemgetter(\"bla\")\n",
    "get_bla(question)"
   ]
  },
  {
   "cell_type": "code",
   "execution_count": null,
   "metadata": {},
   "outputs": [],
   "source": [
    "from langchain.schema.runnable import RunnablePassthrough\n",
    "\n",
    "template = \"\"\"Answer the question based only on the following context:\n",
    "{context}\n",
    "\n",
    "Question: {question}\n",
    "\n",
    "Answer in the following language: {language}\n",
    "\"\"\"\n",
    "prompt = ChatPromptTemplate.from_template(template)\n",
    "\n",
    "# chain = {\n",
    "#     \"context\": itemgetter(\"question\") | retriever,\n",
    "#     \"question\": itemgetter(\"question\"),\n",
    "#     \"language\": itemgetter(\"language\")\n",
    "# } | prompt | model | StrOutputParser()\n",
    "\n",
    "chain = {\n",
    "    \"context\": (lambda x: x[\"question\"]) | retriever, \n",
    "    \"question\": (lambda x: x[\"question\"]), \n",
    "    \"language\": (lambda x: x[\"language\"])\n",
    "} | prompt | llm | StrOutputParser()\n"
   ]
  },
  {
   "cell_type": "code",
   "execution_count": null,
   "metadata": {},
   "outputs": [],
   "source": [
    "chain.invoke({\"question\": \"how old is the oldest cat?\", \"language\": \"german\"})"
   ]
  },
  {
   "cell_type": "code",
   "execution_count": null,
   "metadata": {},
   "outputs": [],
   "source": [
    "!pip install duckduckgo-search"
   ]
  },
  {
   "cell_type": "code",
   "execution_count": null,
   "metadata": {},
   "outputs": [],
   "source": [
    "from langchain.tools import DuckDuckGoSearchRun\n",
    "search = DuckDuckGoSearchRun()"
   ]
  },
  {
   "cell_type": "code",
   "execution_count": null,
   "metadata": {},
   "outputs": [],
   "source": [
    "template = \"\"\"turn the following user input into a search query for a search engine:\n",
    "\n",
    "{input}\"\"\"\n",
    "\n",
    "prompt = ChatPromptTemplate.from_template(template)"
   ]
  },
  {
   "cell_type": "code",
   "execution_count": null,
   "metadata": {},
   "outputs": [],
   "source": [
    "chain = prompt | llm | StrOutputParser() | search"
   ]
  },
  {
   "cell_type": "code",
   "execution_count": null,
   "metadata": {},
   "outputs": [],
   "source": [
    "chain.invoke({\"input\": \"whats the name of the oldest cat?\"})"
   ]
  },
  {
   "cell_type": "markdown",
   "metadata": {},
   "source": [
    "### Arbitrary functions"
   ]
  },
  {
   "cell_type": "code",
   "execution_count": null,
   "metadata": {},
   "outputs": [],
   "source": [
    "from langchain.schema.runnable import RunnableLambda\n",
    "\n",
    "def length_function(text):\n",
    "    return len(text)\n",
    "\n",
    "def _multiple_length_function(text1, text2):\n",
    "    return len(text1) * len(text2)\n",
    "\n",
    "def multiple_length_function(_dict):\n",
    "    return _multiple_length_function(_dict[\"text1\"], _dict[\"text2\"])\n",
    "\n",
    "prompt = ChatPromptTemplate.from_template(\"what is {a} + {b}\")\n",
    "\n",
    "chain = {\n",
    "    \"a\": itemgetter(\"foo\") | RunnableLambda(length_function),\n",
    "    \"b\": {\"text1\": itemgetter(\"foo\"), \"text2\": itemgetter(\"bar\")} | RunnableLambda(multiple_length_function)\n",
    "} | prompt | llm | StrOutputParser()"
   ]
  },
  {
   "cell_type": "code",
   "execution_count": null,
   "metadata": {},
   "outputs": [],
   "source": [
    "chain.invoke({\"foo\": \"bar\", \"bar\": \"gah\"})"
   ]
  },
  {
   "cell_type": "markdown",
   "metadata": {},
   "source": [
    "### Interface"
   ]
  },
  {
   "cell_type": "code",
   "execution_count": null,
   "metadata": {},
   "outputs": [],
   "source": [
    "model = ChatOpenAI()\n",
    "prompt = ChatPromptTemplate.from_template(\"tell me a joke about {topic}\")\n",
    "chain = prompt | model"
   ]
  },
  {
   "cell_type": "code",
   "execution_count": null,
   "metadata": {},
   "outputs": [],
   "source": [
    "for s in chain.stream({\"topic\": \"bears\"}):\n",
    "    print(s.content, end=\"\")"
   ]
  },
  {
   "cell_type": "code",
   "execution_count": null,
   "metadata": {},
   "outputs": [],
   "source": [
    "chain.invoke({\"topic\": \"bears\"})"
   ]
  },
  {
   "cell_type": "code",
   "execution_count": null,
   "metadata": {},
   "outputs": [],
   "source": [
    "chain.batch([{\"topic\": \"bears\"}, {\"topic\": \"cats\"}])"
   ]
  },
  {
   "cell_type": "code",
   "execution_count": null,
   "metadata": {},
   "outputs": [],
   "source": [
    "async for s in chain.astream({\"topic\": \"bears\"}):\n",
    "    print(s.content, end=\"\")\n",
    "await chain.ainvoke({\"topic\": \"bears\"})\n",
    "await chain.abatch([{\"topic\": \"bears\"}])"
   ]
  }
 ],
 "metadata": {
  "kernelspec": {
   "display_name": "Python 3",
   "language": "python",
   "name": "python3"
  },
  "language_info": {
   "codemirror_mode": {
    "name": "ipython",
    "version": 3
   },
   "file_extension": ".py",
   "mimetype": "text/x-python",
   "name": "python",
   "nbconvert_exporter": "python",
   "pygments_lexer": "ipython3",
   "version": "3.11.0"
  }
 },
 "nbformat": 4,
 "nbformat_minor": 2
}
