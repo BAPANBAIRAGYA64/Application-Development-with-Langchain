{
 "cells": [
  {
   "cell_type": "markdown",
   "metadata": {},
   "source": [
    "# OpenAI API - Chat completions API\n",
    "Chat models process a sequence of messages to generate a single output message, facilitating both multi-turn conversations and single-turn tasks efficiently."
   ]
  },
  {
   "cell_type": "code",
   "execution_count": null,
   "metadata": {},
   "outputs": [],
   "source": [
    "import openai\n",
    "\n",
    "response = openai.ChatCompletion.create(\n",
    "    model=\"gpt-3.5-turbo\",\n",
    "    messages=[\n",
    "        {\"role\": \"system\", \"content\": \"You are a helpful assistant specialized in providing information about BellaVista Italian Restaurant.\"},\n",
    "        {\"role\": \"user\", \"content\": \"What's on the menu?\"},\n",
    "        {\"role\": \"assistant\", \"content\": \"BellaVista offers a variety of Italian dishes including pasta, pizza, and seafood.\"},\n",
    "        {\"role\": \"user\", \"content\": \"Do you have vegan options?\"}\n",
    "    ]\n",
    ")\n"
   ]
  },
  {
   "cell_type": "markdown",
   "metadata": {},
   "source": [
    "Let´s look at the structure of the response"
   ]
  },
  {
   "cell_type": "code",
   "execution_count": null,
   "metadata": {},
   "outputs": [],
   "source": [
    "print(response)"
   ]
  },
  {
   "cell_type": "markdown",
   "metadata": {},
   "source": [
    "Every response includes a `finish_reason` field with the following possible values:\n",
    "\n",
    "- **stop**: Complete message from API or terminated by a stop sequence specified via the `stop` parameter.\n",
    "- **length**: Incomplete output due to reaching `max_tokens` limit or token constraints.\n",
    "- **function_call**: Model initiated a function call.\n",
    "- **content_filter**: Content omitted based on content filtering flags.\n",
    "- **null**: API response is either still in progress or incomplete.\n"
   ]
  },
  {
   "cell_type": "code",
   "execution_count": null,
   "metadata": {},
   "outputs": [],
   "source": [
    "print(response['choices'][0]['message']['content'])"
   ]
  }
 ],
 "metadata": {
  "kernelspec": {
   "display_name": "Python 3",
   "language": "python",
   "name": "python3"
  },
  "language_info": {
   "codemirror_mode": {
    "name": "ipython",
    "version": 3
   },
   "file_extension": ".py",
   "mimetype": "text/x-python",
   "name": "python",
   "nbconvert_exporter": "python",
   "pygments_lexer": "ipython3",
   "version": "3.11.0"
  },
  "orig_nbformat": 4
 },
 "nbformat": 4,
 "nbformat_minor": 2
}
